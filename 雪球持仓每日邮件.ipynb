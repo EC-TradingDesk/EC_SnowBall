{
 "cells": [
  {
   "cell_type": "code",
   "execution_count": 14,
   "id": "e1233d1a",
   "metadata": {},
   "outputs": [
    {
     "name": "stdout",
     "output_type": "stream",
     "text": [
      "邮件发送成功2022-06-30 18:09:18\n"
     ]
    }
   ],
   "source": [
    "#coding = utf-8\n",
    "import smtplib  # 负责发送邮件\n",
    "from email.mime.text import MIMEText  # 构造文本\n",
    "from email.mime.image import MIMEImage  # 构造图片\n",
    "from email.mime.multipart import MIMEMultipart  # 将多个集合对象集合起来\n",
    "from email.header import Header\n",
    "import datetime\n",
    "import warnings\n",
    "warnings.filterwarnings('ignore')\n",
    "# 输入发件人昵称、收件人昵称、主题，正文，附件地址,附件名称生成一封邮件\n",
    "def create_email(sender_name, receiver_name, email_Subject, email_text, annex_file,annex_name):\n",
    "    #生成一个空的带附件的邮件实例\n",
    "    message = MIMEMultipart()\n",
    "    #将正文以text的形式插入邮件中(参数1：正文内容，参数2：文本格式，参数3：编码方式)\n",
    "    message.attach(MIMEText(email_text, 'plain', 'utf-8'))\n",
    "    #生成发件人名称\n",
    "    message['From'] = Header(sender_name, 'utf-8')\n",
    "    #生成收件人名称\n",
    "    message['To'] = Header(receiver_name, 'utf-8')\n",
    "#     message['To'] = receiver\n",
    "    #生成邮件主题\n",
    "    message['Subject'] = Header(email_Subject, 'utf-8')\n",
    "    #读取附件的内容\n",
    "    att1 = MIMEText(open(annex_file, 'rb').read(), 'base64', 'utf-8')\n",
    "    att1[\"Content-Type\"] = 'application/octet-stream'\n",
    "    #生成附件的名称\n",
    "#     att1[\"Content-Disposition\"] = 'attachment; filename=' + annex_name\n",
    "    att1.add_header('Content-Disposition','attachment',filename = ('gbk','',annex_name))\n",
    "    #将附件内容插入邮件中\n",
    "    message.attach(att1)\n",
    "    #返回邮件\n",
    "    return message\n",
    "def send_email(sender, password, receiver, msg, mail_host = \"smtp.qq.com\"):\n",
    "    # 一个输入邮箱、密码、收件人、邮件内容发送邮件的函数\n",
    "    try:\n",
    "        #找到你的发送邮箱的服务器地址，已加密的形式发送\n",
    "        server = smtplib.SMTP()  # 发件人邮箱中的SMTP服务器\n",
    "        server.connect(mail_host, 587)\n",
    "        server.ehlo()\n",
    "        #登录你的账号\n",
    "        server.login(sender, password)  # 括号中对应的是发件人邮箱账号、邮箱密码\n",
    "        #发送邮件\n",
    "        server.sendmail(sender, receiver, msg.as_string())  # 括号中对应的是发件人邮箱账号、收件人邮箱账号（是一个列表）、邮件内容\n",
    "        print(\"邮件发送成功\" + datetime.datetime.now().strftime('%Y-%m-%d %H:%M:%S'))\n",
    "        # 关闭SMTP对象\n",
    "        server.quit()\n",
    "    except Exception:\n",
    "        print('邮件发送失败'+ datetime.datetime.now().strftime('%Y-%m-%d %H:%M:%S'))\n",
    "\n",
    "if __name__ == '__main__':\n",
    "    # SMTP服务器,这里使用qq邮箱\n",
    "    # mail_host = \"smtp.qq.com\"\n",
    "    # 发件人邮箱\n",
    "    sender = \"541211968@qq.com\"\n",
    "    sender_name = \"zackzhang<541211968@qq.com>\"\n",
    "    # 邮箱授权码,注意这里不是邮箱密码！！\n",
    "    mail_license = \"yjtvueymncazbajd\"\n",
    "    #收件人邮箱（前面的昵称一定要用英文的）\n",
    "    receiver_name = \"kangma1012@163.com;115053043@qq.com;zz2705@columbia.edu;541211968@qq.com\"\n",
    "    receiver = \"kangma1012@163.com,115053043@qq.com,zz2705@columbia.edu,541211968@qq.com\".split(',')\n",
    "#     receiver_name = \"hao<115053043@qq.com>,zzq<kangma1012@163.com>\"  #\n",
    "    # 邮件主题\n",
    "    subject_content = \"\"\"雪球每日持仓情况{}\"\"\".format(datetime.datetime.now().strftime('%Y-%m-%d %H:%M'))\n",
    "    # 邮件正文\n",
    "    body_content = \"\"\"Dear, \\n\\n这是今天的雪球持仓情况，请查收！\\n\\nKind regards, \\nZack\"\"\"\n",
    "    annex_file = r'雪球簿记交易对冲参数_v5.xlsx'\n",
    "    annex_name = \"雪球每日情况{}.xlsx\".format(datetime.datetime.now().strftime('%Y-%m-%d'))\n",
    "    message = create_email(sender_name=sender_name,receiver_name=receiver_name,email_Subject=subject_content, \\\n",
    "                 email_text=body_content,annex_file=annex_file,annex_name=annex_name)\n",
    "    send_email(sender=sender,password=mail_license,receiver=receiver,msg=message)\n"
   ]
  },
  {
   "cell_type": "code",
   "execution_count": null,
   "id": "ba550871",
   "metadata": {},
   "outputs": [],
   "source": []
  }
 ],
 "metadata": {
  "kernelspec": {
   "display_name": "Python 3 (ipykernel)",
   "language": "python",
   "name": "python3"
  },
  "language_info": {
   "codemirror_mode": {
    "name": "ipython",
    "version": 3
   },
   "file_extension": ".py",
   "mimetype": "text/x-python",
   "name": "python",
   "nbconvert_exporter": "python",
   "pygments_lexer": "ipython3",
   "version": "3.8.8"
  }
 },
 "nbformat": 4,
 "nbformat_minor": 5
}
